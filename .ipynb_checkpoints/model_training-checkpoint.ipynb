{
 "cells": [
  {
   "cell_type": "markdown",
   "id": "74528796",
   "metadata": {},
   "source": [
    "# 🧠 Shaking Palsy Detection using Voice & Machine Learning\n",
    "This notebook covers the complete ML pipeline for Parkinson's Disease detection using voice features.\n",
    "We'll explore multiple models, perform evaluation, and export the best-performing one."
   ]
  },
  {
   "cell_type": "code",
   "execution_count": null,
   "id": "61042819",
   "metadata": {},
   "outputs": [],
   "source": [
    "import pandas as pd\n",
    "import numpy as np\n",
    "import matplotlib.pyplot as plt\n",
    "import seaborn as sns\n",
    "\n",
    "from sklearn.model_selection import train_test_split, StratifiedKFold, GridSearchCV\n",
    "from sklearn.preprocessing import StandardScaler\n",
    "from sklearn.metrics import classification_report, confusion_matrix, roc_auc_score, roc_curve\n",
    "\n",
    "from sklearn.linear_model import LogisticRegression\n",
    "from sklearn.ensemble import RandomForestClassifier\n",
    "from sklearn.svm import SVC\n",
    "from sklearn.neighbors import KNeighborsClassifier\n",
    "from xgboost import XGBClassifier\n",
    "\n",
    "from imblearn.over_sampling import SMOTE\n",
    "import joblib\n"
   ]
  },
  {
   "cell_type": "code",
   "execution_count": null,
   "id": "8295edad",
   "metadata": {},
   "outputs": [],
   "source": [
    "# Load the dataset\n",
    "df = pd.read_csv(\"data/parkinsons.data\")\n",
    "df.head()\n"
   ]
  },
  {
   "cell_type": "code",
   "execution_count": null,
   "id": "2e605ba7",
   "metadata": {},
   "outputs": [],
   "source": [
    "# Drop unnecessary columns\n",
    "df = df.drop(['name'], axis=1)\n",
    "\n",
    "# Separate features and target\n",
    "X = df.drop(['status'], axis=1)\n",
    "y = df['status']\n",
    "\n",
    "# Normalize features\n",
    "scaler = StandardScaler()\n",
    "X_scaled = scaler.fit_transform(X)\n",
    "\n",
    "# Handle imbalance using SMOTE\n",
    "smote = SMOTE(random_state=42)\n",
    "X_resampled, y_resampled = smote.fit_resample(X_scaled, y)\n"
   ]
  },
  {
   "cell_type": "code",
   "execution_count": null,
   "id": "55736f34",
   "metadata": {},
   "outputs": [],
   "source": [
    "X_train, X_test, y_train, y_test = train_test_split(X_resampled, y_resampled,\n",
    "                                                    test_size=0.2, stratify=y_resampled, random_state=42)\n"
   ]
  },
  {
   "cell_type": "code",
   "execution_count": null,
   "id": "e83623a5",
   "metadata": {},
   "outputs": [],
   "source": [
    "models = {\n",
    "    \"Logistic Regression\": LogisticRegression(max_iter=1000),\n",
    "    \"Random Forest\": RandomForestClassifier(),\n",
    "    \"SVM\": SVC(probability=True),\n",
    "    \"KNN\": KNeighborsClassifier(),\n",
    "    \"XGBoost\": XGBClassifier(use_label_encoder=False, eval_metric='logloss')\n",
    "}\n",
    "\n",
    "results = {}\n",
    "\n",
    "for name, model in models.items():\n",
    "    model.fit(X_train, y_train)\n",
    "    y_pred = model.predict(X_test)\n",
    "    y_proba = model.predict_proba(X_test)[:,1]\n",
    "    score = roc_auc_score(y_test, y_proba)\n",
    "    results[name] = {\n",
    "        \"Model\": model,\n",
    "        \"ROC AUC\": score,\n",
    "        \"Report\": classification_report(y_test, y_pred, output_dict=True),\n",
    "        \"Confusion\": confusion_matrix(y_test, y_pred)\n",
    "    }\n",
    "\n",
    "results\n"
   ]
  },
  {
   "cell_type": "code",
   "execution_count": null,
   "id": "832daa64",
   "metadata": {},
   "outputs": [],
   "source": [
    "# Visualizing ROC-AUC scores\n",
    "for name in results:\n",
    "    fpr, tpr, _ = roc_curve(y_test, results[name][\"Model\"].predict_proba(X_test)[:, 1])\n",
    "    plt.plot(fpr, tpr, label=f\"{name} (AUC = {results[name]['ROC AUC']:.2f})\")\n",
    "\n",
    "plt.plot([0, 1], [0, 1], \"k--\")\n",
    "plt.xlabel(\"False Positive Rate\")\n",
    "plt.ylabel(\"True Positive Rate\")\n",
    "plt.title(\"ROC Curves\")\n",
    "plt.legend()\n",
    "plt.grid()\n",
    "plt.show()\n"
   ]
  },
  {
   "cell_type": "code",
   "execution_count": null,
   "id": "c879623e",
   "metadata": {},
   "outputs": [],
   "source": [
    "# Assume XGBoost is best (you can programmatically select based on score)\n",
    "best_model = results[\"XGBoost\"][\"Model\"]\n",
    "joblib.dump(best_model, \"models/final_model.pkl\")\n",
    "joblib.dump(scaler, \"models/scaler.pkl\")\n"
   ]
  }
 ],
 "metadata": {
  "language_info": {
   "name": "python"
  }
 },
 "nbformat": 4,
 "nbformat_minor": 5
}
